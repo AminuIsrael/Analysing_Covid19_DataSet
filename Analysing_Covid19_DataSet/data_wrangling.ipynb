{
 "cells": [
  {
   "cell_type": "code",
   "execution_count": 1,
   "metadata": {},
   "outputs": [],
   "source": [
    "#import libraries\n",
    "import pandas as pd\n",
    "import numpy as np\n",
    "import seaborn as sns\n",
    "import matplotlib.pyplot as plt\n",
    "%matplotlib inline"
   ]
  },
  {
   "cell_type": "code",
   "execution_count": 2,
   "metadata": {},
   "outputs": [],
   "source": [
    "our_data = pd.read_csv('response.csv') #read data "
   ]
  },
  {
   "cell_type": "code",
   "execution_count": 3,
   "metadata": {},
   "outputs": [
    {
     "data": {
      "text/html": [
       "<div>\n",
       "<style scoped>\n",
       "    .dataframe tbody tr th:only-of-type {\n",
       "        vertical-align: middle;\n",
       "    }\n",
       "\n",
       "    .dataframe tbody tr th {\n",
       "        vertical-align: top;\n",
       "    }\n",
       "\n",
       "    .dataframe thead th {\n",
       "        text-align: right;\n",
       "    }\n",
       "</style>\n",
       "<table border=\"1\" class=\"dataframe\">\n",
       "  <thead>\n",
       "    <tr style=\"text-align: right;\">\n",
       "      <th></th>\n",
       "      <th>Country</th>\n",
       "      <th>Total_Cases</th>\n",
       "      <th>New_Cases</th>\n",
       "      <th>Total_Deaths</th>\n",
       "      <th>New_Deaths</th>\n",
       "      <th>Total_Recovered</th>\n",
       "      <th>Active_Cases</th>\n",
       "      <th>Serious/Critical</th>\n",
       "      <th>Tot_Cases</th>\n",
       "      <th>Deaths</th>\n",
       "      <th>Total_Tests</th>\n",
       "      <th>Tests</th>\n",
       "      <th>Continents</th>\n",
       "    </tr>\n",
       "  </thead>\n",
       "  <tbody>\n",
       "    <tr>\n",
       "      <th>0</th>\n",
       "      <td>World</td>\n",
       "      <td>9067824</td>\n",
       "      <td>28,887</td>\n",
       "      <td>471040</td>\n",
       "      <td>1,436</td>\n",
       "      <td>4850718.0</td>\n",
       "      <td>3746066.0</td>\n",
       "      <td>54740.0</td>\n",
       "      <td>1,163</td>\n",
       "      <td>60.4</td>\n",
       "      <td>NaN</td>\n",
       "      <td>NaN</td>\n",
       "      <td>All</td>\n",
       "    </tr>\n",
       "    <tr>\n",
       "      <th>1</th>\n",
       "      <td>USA</td>\n",
       "      <td>2356715</td>\n",
       "      <td>58</td>\n",
       "      <td>122248</td>\n",
       "      <td>1</td>\n",
       "      <td>980367.0</td>\n",
       "      <td>1254100.0</td>\n",
       "      <td>16477.0</td>\n",
       "      <td>7,121</td>\n",
       "      <td>369</td>\n",
       "      <td>28,492,770</td>\n",
       "      <td>86,093</td>\n",
       "      <td>North America</td>\n",
       "    </tr>\n",
       "    <tr>\n",
       "      <th>2</th>\n",
       "      <td>Brazil</td>\n",
       "      <td>1086990</td>\n",
       "      <td>NaN</td>\n",
       "      <td>50659</td>\n",
       "      <td>NaN</td>\n",
       "      <td>579226.0</td>\n",
       "      <td>457105.0</td>\n",
       "      <td>8318.0</td>\n",
       "      <td>5,115</td>\n",
       "      <td>238</td>\n",
       "      <td>2,430,347</td>\n",
       "      <td>11,436</td>\n",
       "      <td>South America</td>\n",
       "    </tr>\n",
       "    <tr>\n",
       "      <th>3</th>\n",
       "      <td>Russia</td>\n",
       "      <td>592280</td>\n",
       "      <td>7,600</td>\n",
       "      <td>8206</td>\n",
       "      <td>95</td>\n",
       "      <td>344416.0</td>\n",
       "      <td>239658.0</td>\n",
       "      <td>2300.0</td>\n",
       "      <td>4,059</td>\n",
       "      <td>56</td>\n",
       "      <td>17,200,000</td>\n",
       "      <td>117,862</td>\n",
       "      <td>Europe</td>\n",
       "    </tr>\n",
       "    <tr>\n",
       "      <th>4</th>\n",
       "      <td>India</td>\n",
       "      <td>426910</td>\n",
       "      <td>NaN</td>\n",
       "      <td>13703</td>\n",
       "      <td>NaN</td>\n",
       "      <td>237252.0</td>\n",
       "      <td>175955.0</td>\n",
       "      <td>8944.0</td>\n",
       "      <td>309</td>\n",
       "      <td>10</td>\n",
       "      <td>6,950,493</td>\n",
       "      <td>5,038</td>\n",
       "      <td>Asia</td>\n",
       "    </tr>\n",
       "    <tr>\n",
       "      <th>...</th>\n",
       "      <td>...</td>\n",
       "      <td>...</td>\n",
       "      <td>...</td>\n",
       "      <td>...</td>\n",
       "      <td>...</td>\n",
       "      <td>...</td>\n",
       "      <td>...</td>\n",
       "      <td>...</td>\n",
       "      <td>...</td>\n",
       "      <td>...</td>\n",
       "      <td>...</td>\n",
       "      <td>...</td>\n",
       "      <td>...</td>\n",
       "    </tr>\n",
       "    <tr>\n",
       "      <th>211</th>\n",
       "      <td>Caribbean Netherlands</td>\n",
       "      <td>7</td>\n",
       "      <td>NaN</td>\n",
       "      <td></td>\n",
       "      <td>NaN</td>\n",
       "      <td>7.0</td>\n",
       "      <td>0.0</td>\n",
       "      <td>NaN</td>\n",
       "      <td>267</td>\n",
       "      <td>NaN</td>\n",
       "      <td>424</td>\n",
       "      <td>16,173</td>\n",
       "      <td>North America</td>\n",
       "    </tr>\n",
       "    <tr>\n",
       "      <th>212</th>\n",
       "      <td>St. Barth</td>\n",
       "      <td>6</td>\n",
       "      <td>NaN</td>\n",
       "      <td></td>\n",
       "      <td>NaN</td>\n",
       "      <td>6.0</td>\n",
       "      <td>0.0</td>\n",
       "      <td>NaN</td>\n",
       "      <td>608</td>\n",
       "      <td>NaN</td>\n",
       "      <td>152</td>\n",
       "      <td>15,391</td>\n",
       "      <td>North America</td>\n",
       "    </tr>\n",
       "    <tr>\n",
       "      <th>213</th>\n",
       "      <td>Anguilla</td>\n",
       "      <td>3</td>\n",
       "      <td>NaN</td>\n",
       "      <td></td>\n",
       "      <td>NaN</td>\n",
       "      <td>3.0</td>\n",
       "      <td>0.0</td>\n",
       "      <td>NaN</td>\n",
       "      <td>200</td>\n",
       "      <td>NaN</td>\n",
       "      <td>93</td>\n",
       "      <td>6,200</td>\n",
       "      <td>North America</td>\n",
       "    </tr>\n",
       "    <tr>\n",
       "      <th>214</th>\n",
       "      <td>Saint Pierre Miquelon</td>\n",
       "      <td>1</td>\n",
       "      <td>NaN</td>\n",
       "      <td></td>\n",
       "      <td>NaN</td>\n",
       "      <td>1.0</td>\n",
       "      <td>0.0</td>\n",
       "      <td>NaN</td>\n",
       "      <td>173</td>\n",
       "      <td>NaN</td>\n",
       "      <td>NaN</td>\n",
       "      <td>NaN</td>\n",
       "      <td>North America</td>\n",
       "    </tr>\n",
       "    <tr>\n",
       "      <th>215</th>\n",
       "      <td>China</td>\n",
       "      <td>83396</td>\n",
       "      <td>18</td>\n",
       "      <td>4634</td>\n",
       "      <td>NaN</td>\n",
       "      <td>78413.0</td>\n",
       "      <td>349.0</td>\n",
       "      <td>10.0</td>\n",
       "      <td>58</td>\n",
       "      <td>3</td>\n",
       "      <td>NaN</td>\n",
       "      <td>NaN</td>\n",
       "      <td>Asia</td>\n",
       "    </tr>\n",
       "  </tbody>\n",
       "</table>\n",
       "<p>216 rows × 13 columns</p>\n",
       "</div>"
      ],
      "text/plain": [
       "                   Country  Total_Cases New_Cases Total_Deaths New_Deaths  \\\n",
       "0                    World      9067824    28,887       471040      1,436   \n",
       "1                      USA      2356715        58      122248           1   \n",
       "2                   Brazil      1086990       NaN       50659         NaN   \n",
       "3                   Russia       592280     7,600        8206          95   \n",
       "4                    India       426910       NaN       13703         NaN   \n",
       "..                     ...          ...       ...          ...        ...   \n",
       "211  Caribbean Netherlands            7       NaN                     NaN   \n",
       "212              St. Barth            6       NaN                     NaN   \n",
       "213               Anguilla            3       NaN                     NaN   \n",
       "214  Saint Pierre Miquelon            1       NaN                     NaN   \n",
       "215                  China        83396        18        4634         NaN   \n",
       "\n",
       "     Total_Recovered  Active_Cases  Serious/Critical Tot_Cases Deaths  \\\n",
       "0          4850718.0     3746066.0           54740.0     1,163   60.4   \n",
       "1           980367.0     1254100.0           16477.0     7,121    369   \n",
       "2           579226.0      457105.0            8318.0     5,115    238   \n",
       "3           344416.0      239658.0            2300.0     4,059     56   \n",
       "4           237252.0      175955.0            8944.0       309     10   \n",
       "..               ...           ...               ...       ...    ...   \n",
       "211              7.0           0.0               NaN       267    NaN   \n",
       "212              6.0           0.0               NaN       608    NaN   \n",
       "213              3.0           0.0               NaN       200    NaN   \n",
       "214              1.0           0.0               NaN       173    NaN   \n",
       "215          78413.0         349.0              10.0        58      3   \n",
       "\n",
       "    Total_Tests    Tests     Continents  \n",
       "0           NaN      NaN            All  \n",
       "1    28,492,770   86,093  North America  \n",
       "2     2,430,347   11,436  South America  \n",
       "3    17,200,000  117,862         Europe  \n",
       "4     6,950,493    5,038           Asia  \n",
       "..          ...      ...            ...  \n",
       "211         424   16,173  North America  \n",
       "212         152   15,391  North America  \n",
       "213          93    6,200  North America  \n",
       "214         NaN      NaN  North America  \n",
       "215         NaN      NaN           Asia  \n",
       "\n",
       "[216 rows x 13 columns]"
      ]
     },
     "execution_count": 3,
     "metadata": {},
     "output_type": "execute_result"
    }
   ],
   "source": [
    "our_data #call variable\n"
   ]
  },
  {
   "cell_type": "code",
   "execution_count": 4,
   "metadata": {},
   "outputs": [
    {
     "data": {
      "text/html": [
       "<div>\n",
       "<style scoped>\n",
       "    .dataframe tbody tr th:only-of-type {\n",
       "        vertical-align: middle;\n",
       "    }\n",
       "\n",
       "    .dataframe tbody tr th {\n",
       "        vertical-align: top;\n",
       "    }\n",
       "\n",
       "    .dataframe thead th {\n",
       "        text-align: right;\n",
       "    }\n",
       "</style>\n",
       "<table border=\"1\" class=\"dataframe\">\n",
       "  <thead>\n",
       "    <tr style=\"text-align: right;\">\n",
       "      <th></th>\n",
       "      <th>Country</th>\n",
       "      <th>Total_Cases</th>\n",
       "      <th>New_Cases</th>\n",
       "      <th>Total_Deaths</th>\n",
       "      <th>New_Deaths</th>\n",
       "      <th>Total_Recovered</th>\n",
       "      <th>Active_Cases</th>\n",
       "      <th>Serious/Critical</th>\n",
       "      <th>Tot_Cases</th>\n",
       "      <th>Deaths</th>\n",
       "      <th>Total_Tests</th>\n",
       "      <th>Tests</th>\n",
       "      <th>Continents</th>\n",
       "    </tr>\n",
       "  </thead>\n",
       "  <tbody>\n",
       "    <tr>\n",
       "      <th>0</th>\n",
       "      <td>World</td>\n",
       "      <td>9067824</td>\n",
       "      <td>28,887</td>\n",
       "      <td>471040</td>\n",
       "      <td>1,436</td>\n",
       "      <td>4850718.0</td>\n",
       "      <td>3746066.0</td>\n",
       "      <td>54740.0</td>\n",
       "      <td>1,163</td>\n",
       "      <td>60.4</td>\n",
       "      <td>NaN</td>\n",
       "      <td>NaN</td>\n",
       "      <td>All</td>\n",
       "    </tr>\n",
       "    <tr>\n",
       "      <th>1</th>\n",
       "      <td>USA</td>\n",
       "      <td>2356715</td>\n",
       "      <td>58</td>\n",
       "      <td>122248</td>\n",
       "      <td>1</td>\n",
       "      <td>980367.0</td>\n",
       "      <td>1254100.0</td>\n",
       "      <td>16477.0</td>\n",
       "      <td>7,121</td>\n",
       "      <td>369</td>\n",
       "      <td>28,492,770</td>\n",
       "      <td>86,093</td>\n",
       "      <td>North America</td>\n",
       "    </tr>\n",
       "    <tr>\n",
       "      <th>2</th>\n",
       "      <td>Brazil</td>\n",
       "      <td>1086990</td>\n",
       "      <td>NaN</td>\n",
       "      <td>50659</td>\n",
       "      <td>NaN</td>\n",
       "      <td>579226.0</td>\n",
       "      <td>457105.0</td>\n",
       "      <td>8318.0</td>\n",
       "      <td>5,115</td>\n",
       "      <td>238</td>\n",
       "      <td>2,430,347</td>\n",
       "      <td>11,436</td>\n",
       "      <td>South America</td>\n",
       "    </tr>\n",
       "    <tr>\n",
       "      <th>3</th>\n",
       "      <td>Russia</td>\n",
       "      <td>592280</td>\n",
       "      <td>7,600</td>\n",
       "      <td>8206</td>\n",
       "      <td>95</td>\n",
       "      <td>344416.0</td>\n",
       "      <td>239658.0</td>\n",
       "      <td>2300.0</td>\n",
       "      <td>4,059</td>\n",
       "      <td>56</td>\n",
       "      <td>17,200,000</td>\n",
       "      <td>117,862</td>\n",
       "      <td>Europe</td>\n",
       "    </tr>\n",
       "    <tr>\n",
       "      <th>4</th>\n",
       "      <td>India</td>\n",
       "      <td>426910</td>\n",
       "      <td>NaN</td>\n",
       "      <td>13703</td>\n",
       "      <td>NaN</td>\n",
       "      <td>237252.0</td>\n",
       "      <td>175955.0</td>\n",
       "      <td>8944.0</td>\n",
       "      <td>309</td>\n",
       "      <td>10</td>\n",
       "      <td>6,950,493</td>\n",
       "      <td>5,038</td>\n",
       "      <td>Asia</td>\n",
       "    </tr>\n",
       "  </tbody>\n",
       "</table>\n",
       "</div>"
      ],
      "text/plain": [
       "  Country  Total_Cases New_Cases Total_Deaths New_Deaths  Total_Recovered  \\\n",
       "0   World      9067824    28,887       471040      1,436        4850718.0   \n",
       "1     USA      2356715        58      122248           1         980367.0   \n",
       "2  Brazil      1086990       NaN       50659         NaN         579226.0   \n",
       "3  Russia       592280     7,600        8206          95         344416.0   \n",
       "4   India       426910       NaN       13703         NaN         237252.0   \n",
       "\n",
       "   Active_Cases  Serious/Critical Tot_Cases Deaths Total_Tests    Tests  \\\n",
       "0     3746066.0           54740.0     1,163   60.4         NaN      NaN   \n",
       "1     1254100.0           16477.0     7,121    369  28,492,770   86,093   \n",
       "2      457105.0            8318.0     5,115    238   2,430,347   11,436   \n",
       "3      239658.0            2300.0     4,059     56  17,200,000  117,862   \n",
       "4      175955.0            8944.0       309     10   6,950,493    5,038   \n",
       "\n",
       "      Continents  \n",
       "0            All  \n",
       "1  North America  \n",
       "2  South America  \n",
       "3         Europe  \n",
       "4           Asia  "
      ]
     },
     "execution_count": 4,
     "metadata": {},
     "output_type": "execute_result"
    }
   ],
   "source": [
    "our_data.head() #check the head of the data"
   ]
  },
  {
   "cell_type": "code",
   "execution_count": 5,
   "metadata": {},
   "outputs": [
    {
     "data": {
      "text/html": [
       "<div>\n",
       "<style scoped>\n",
       "    .dataframe tbody tr th:only-of-type {\n",
       "        vertical-align: middle;\n",
       "    }\n",
       "\n",
       "    .dataframe tbody tr th {\n",
       "        vertical-align: top;\n",
       "    }\n",
       "\n",
       "    .dataframe thead th {\n",
       "        text-align: right;\n",
       "    }\n",
       "</style>\n",
       "<table border=\"1\" class=\"dataframe\">\n",
       "  <thead>\n",
       "    <tr style=\"text-align: right;\">\n",
       "      <th></th>\n",
       "      <th>Country</th>\n",
       "      <th>Total_Cases</th>\n",
       "      <th>New_Cases</th>\n",
       "      <th>Total_Deaths</th>\n",
       "      <th>New_Deaths</th>\n",
       "      <th>Total_Recovered</th>\n",
       "      <th>Active_Cases</th>\n",
       "      <th>Serious/Critical</th>\n",
       "      <th>Tot_Cases</th>\n",
       "      <th>Deaths</th>\n",
       "      <th>Total_Tests</th>\n",
       "      <th>Tests</th>\n",
       "      <th>Continents</th>\n",
       "    </tr>\n",
       "  </thead>\n",
       "  <tbody>\n",
       "    <tr>\n",
       "      <th>211</th>\n",
       "      <td>Caribbean Netherlands</td>\n",
       "      <td>7</td>\n",
       "      <td>NaN</td>\n",
       "      <td></td>\n",
       "      <td>NaN</td>\n",
       "      <td>7.0</td>\n",
       "      <td>0.0</td>\n",
       "      <td>NaN</td>\n",
       "      <td>267</td>\n",
       "      <td>NaN</td>\n",
       "      <td>424</td>\n",
       "      <td>16,173</td>\n",
       "      <td>North America</td>\n",
       "    </tr>\n",
       "    <tr>\n",
       "      <th>212</th>\n",
       "      <td>St. Barth</td>\n",
       "      <td>6</td>\n",
       "      <td>NaN</td>\n",
       "      <td></td>\n",
       "      <td>NaN</td>\n",
       "      <td>6.0</td>\n",
       "      <td>0.0</td>\n",
       "      <td>NaN</td>\n",
       "      <td>608</td>\n",
       "      <td>NaN</td>\n",
       "      <td>152</td>\n",
       "      <td>15,391</td>\n",
       "      <td>North America</td>\n",
       "    </tr>\n",
       "    <tr>\n",
       "      <th>213</th>\n",
       "      <td>Anguilla</td>\n",
       "      <td>3</td>\n",
       "      <td>NaN</td>\n",
       "      <td></td>\n",
       "      <td>NaN</td>\n",
       "      <td>3.0</td>\n",
       "      <td>0.0</td>\n",
       "      <td>NaN</td>\n",
       "      <td>200</td>\n",
       "      <td>NaN</td>\n",
       "      <td>93</td>\n",
       "      <td>6,200</td>\n",
       "      <td>North America</td>\n",
       "    </tr>\n",
       "    <tr>\n",
       "      <th>214</th>\n",
       "      <td>Saint Pierre Miquelon</td>\n",
       "      <td>1</td>\n",
       "      <td>NaN</td>\n",
       "      <td></td>\n",
       "      <td>NaN</td>\n",
       "      <td>1.0</td>\n",
       "      <td>0.0</td>\n",
       "      <td>NaN</td>\n",
       "      <td>173</td>\n",
       "      <td>NaN</td>\n",
       "      <td>NaN</td>\n",
       "      <td>NaN</td>\n",
       "      <td>North America</td>\n",
       "    </tr>\n",
       "    <tr>\n",
       "      <th>215</th>\n",
       "      <td>China</td>\n",
       "      <td>83396</td>\n",
       "      <td>18</td>\n",
       "      <td>4634</td>\n",
       "      <td>NaN</td>\n",
       "      <td>78413.0</td>\n",
       "      <td>349.0</td>\n",
       "      <td>10.0</td>\n",
       "      <td>58</td>\n",
       "      <td>3</td>\n",
       "      <td>NaN</td>\n",
       "      <td>NaN</td>\n",
       "      <td>Asia</td>\n",
       "    </tr>\n",
       "  </tbody>\n",
       "</table>\n",
       "</div>"
      ],
      "text/plain": [
       "                   Country  Total_Cases New_Cases Total_Deaths New_Deaths  \\\n",
       "211  Caribbean Netherlands            7       NaN                     NaN   \n",
       "212              St. Barth            6       NaN                     NaN   \n",
       "213               Anguilla            3       NaN                     NaN   \n",
       "214  Saint Pierre Miquelon            1       NaN                     NaN   \n",
       "215                  China        83396        18        4634         NaN   \n",
       "\n",
       "     Total_Recovered  Active_Cases  Serious/Critical Tot_Cases Deaths  \\\n",
       "211              7.0           0.0               NaN       267    NaN   \n",
       "212              6.0           0.0               NaN       608    NaN   \n",
       "213              3.0           0.0               NaN       200    NaN   \n",
       "214              1.0           0.0               NaN       173    NaN   \n",
       "215          78413.0         349.0              10.0        58      3   \n",
       "\n",
       "    Total_Tests   Tests     Continents  \n",
       "211         424  16,173  North America  \n",
       "212         152  15,391  North America  \n",
       "213          93   6,200  North America  \n",
       "214         NaN     NaN  North America  \n",
       "215         NaN     NaN           Asia  "
      ]
     },
     "execution_count": 5,
     "metadata": {},
     "output_type": "execute_result"
    }
   ],
   "source": [
    "our_data.tail() #check the tail"
   ]
  },
  {
   "cell_type": "code",
   "execution_count": 6,
   "metadata": {},
   "outputs": [
    {
     "data": {
      "text/plain": [
       "Index(['Country', 'Total_Cases', 'New_Cases', 'Total_Deaths', 'New_Deaths',\n",
       "       'Total_Recovered', 'Active_Cases', 'Serious/Critical', 'Tot_Cases',\n",
       "       'Deaths', 'Total_Tests', 'Tests', 'Continents'],\n",
       "      dtype='object')"
      ]
     },
     "execution_count": 6,
     "metadata": {},
     "output_type": "execute_result"
    }
   ],
   "source": [
    "our_data.columns #this is just for us to see clearly, the columns we have "
   ]
  },
  {
   "cell_type": "code",
   "execution_count": 7,
   "metadata": {},
   "outputs": [
    {
     "data": {
      "text/plain": [
       "(216, 13)"
      ]
     },
     "execution_count": 7,
     "metadata": {},
     "output_type": "execute_result"
    }
   ],
   "source": [
    "our_data.shape #data shape"
   ]
  },
  {
   "cell_type": "code",
   "execution_count": 8,
   "metadata": {},
   "outputs": [
    {
     "data": {
      "text/html": [
       "<div>\n",
       "<style scoped>\n",
       "    .dataframe tbody tr th:only-of-type {\n",
       "        vertical-align: middle;\n",
       "    }\n",
       "\n",
       "    .dataframe tbody tr th {\n",
       "        vertical-align: top;\n",
       "    }\n",
       "\n",
       "    .dataframe thead th {\n",
       "        text-align: right;\n",
       "    }\n",
       "</style>\n",
       "<table border=\"1\" class=\"dataframe\">\n",
       "  <thead>\n",
       "    <tr style=\"text-align: right;\">\n",
       "      <th></th>\n",
       "      <th>Total_Cases</th>\n",
       "      <th>Total_Recovered</th>\n",
       "      <th>Active_Cases</th>\n",
       "      <th>Serious/Critical</th>\n",
       "    </tr>\n",
       "  </thead>\n",
       "  <tbody>\n",
       "    <tr>\n",
       "      <th>count</th>\n",
       "      <td>2.160000e+02</td>\n",
       "      <td>2.110000e+02</td>\n",
       "      <td>2.120000e+02</td>\n",
       "      <td>132.000000</td>\n",
       "    </tr>\n",
       "    <tr>\n",
       "      <th>mean</th>\n",
       "      <td>8.396133e+04</td>\n",
       "      <td>4.500278e+04</td>\n",
       "      <td>3.338094e+04</td>\n",
       "      <td>829.393939</td>\n",
       "    </tr>\n",
       "    <tr>\n",
       "      <th>std</th>\n",
       "      <td>6.421554e+05</td>\n",
       "      <td>3.438094e+05</td>\n",
       "      <td>2.729285e+05</td>\n",
       "      <td>5061.856394</td>\n",
       "    </tr>\n",
       "    <tr>\n",
       "      <th>min</th>\n",
       "      <td>1.000000e+00</td>\n",
       "      <td>1.000000e+00</td>\n",
       "      <td>0.000000e+00</td>\n",
       "      <td>1.000000</td>\n",
       "    </tr>\n",
       "    <tr>\n",
       "      <th>25%</th>\n",
       "      <td>2.302500e+02</td>\n",
       "      <td>1.405000e+02</td>\n",
       "      <td>3.500000e+01</td>\n",
       "      <td>2.000000</td>\n",
       "    </tr>\n",
       "    <tr>\n",
       "      <th>50%</th>\n",
       "      <td>1.823000e+03</td>\n",
       "      <td>9.300000e+02</td>\n",
       "      <td>4.365000e+02</td>\n",
       "      <td>10.000000</td>\n",
       "    </tr>\n",
       "    <tr>\n",
       "      <th>75%</th>\n",
       "      <td>1.498525e+04</td>\n",
       "      <td>8.248000e+03</td>\n",
       "      <td>4.461000e+03</td>\n",
       "      <td>102.750000</td>\n",
       "    </tr>\n",
       "    <tr>\n",
       "      <th>max</th>\n",
       "      <td>9.067824e+06</td>\n",
       "      <td>4.850718e+06</td>\n",
       "      <td>3.746066e+06</td>\n",
       "      <td>54740.000000</td>\n",
       "    </tr>\n",
       "  </tbody>\n",
       "</table>\n",
       "</div>"
      ],
      "text/plain": [
       "        Total_Cases  Total_Recovered  Active_Cases  Serious/Critical\n",
       "count  2.160000e+02     2.110000e+02  2.120000e+02        132.000000\n",
       "mean   8.396133e+04     4.500278e+04  3.338094e+04        829.393939\n",
       "std    6.421554e+05     3.438094e+05  2.729285e+05       5061.856394\n",
       "min    1.000000e+00     1.000000e+00  0.000000e+00          1.000000\n",
       "25%    2.302500e+02     1.405000e+02  3.500000e+01          2.000000\n",
       "50%    1.823000e+03     9.300000e+02  4.365000e+02         10.000000\n",
       "75%    1.498525e+04     8.248000e+03  4.461000e+03        102.750000\n",
       "max    9.067824e+06     4.850718e+06  3.746066e+06      54740.000000"
      ]
     },
     "execution_count": 8,
     "metadata": {},
     "output_type": "execute_result"
    }
   ],
   "source": [
    "our_data.describe() #describe the data features"
   ]
  },
  {
   "cell_type": "code",
   "execution_count": 9,
   "metadata": {},
   "outputs": [
    {
     "name": "stdout",
     "output_type": "stream",
     "text": [
      "<class 'pandas.core.frame.DataFrame'>\n",
      "RangeIndex: 216 entries, 0 to 215\n",
      "Data columns (total 13 columns):\n",
      " #   Column            Non-Null Count  Dtype  \n",
      "---  ------            --------------  -----  \n",
      " 0   Country           216 non-null    object \n",
      " 1   Total_Cases       216 non-null    int64  \n",
      " 2   New_Cases         47 non-null     object \n",
      " 3   Total_Deaths      216 non-null    object \n",
      " 4   New_Deaths        22 non-null     object \n",
      " 5   Total_Recovered   211 non-null    float64\n",
      " 6   Active_Cases      212 non-null    float64\n",
      " 7   Serious/Critical  132 non-null    float64\n",
      " 8   Tot_Cases         214 non-null    object \n",
      " 9   Deaths            184 non-null    object \n",
      " 10  Total_Tests       191 non-null    object \n",
      " 11  Tests             191 non-null    object \n",
      " 12  Continents        214 non-null    object \n",
      "dtypes: float64(3), int64(1), object(9)\n",
      "memory usage: 14.4+ KB\n"
     ]
    }
   ],
   "source": [
    "our_data.info() #information of the data"
   ]
  },
  {
   "cell_type": "code",
   "execution_count": 10,
   "metadata": {},
   "outputs": [
    {
     "data": {
      "text/plain": [
       "True"
      ]
     },
     "execution_count": 10,
     "metadata": {},
     "output_type": "execute_result"
    }
   ],
   "source": [
    "our_data.isnull().values.any() #here we are checking if there are any missing values"
   ]
  },
  {
   "cell_type": "code",
   "execution_count": 11,
   "metadata": {},
   "outputs": [
    {
     "data": {
      "text/plain": [
       "Country               0\n",
       "Total_Cases           0\n",
       "New_Cases           169\n",
       "Total_Deaths          0\n",
       "New_Deaths          194\n",
       "Total_Recovered       5\n",
       "Active_Cases          4\n",
       "Serious/Critical     84\n",
       "Tot_Cases             2\n",
       "Deaths               32\n",
       "Total_Tests          25\n",
       "Tests                25\n",
       "Continents            2\n",
       "dtype: int64"
      ]
     },
     "execution_count": 11,
     "metadata": {},
     "output_type": "execute_result"
    }
   ],
   "source": [
    "our_data.isnull().sum() #getting the sum of the missing values from each column"
   ]
  },
  {
   "cell_type": "code",
   "execution_count": 12,
   "metadata": {},
   "outputs": [
    {
     "data": {
      "text/plain": [
       "Total_Cases         83961.333333\n",
       "Total_Recovered     45002.781991\n",
       "Active_Cases        33380.943396\n",
       "Serious/Critical      829.393939\n",
       "dtype: float64"
      ]
     },
     "execution_count": 12,
     "metadata": {},
     "output_type": "execute_result"
    }
   ],
   "source": [
    "our_data.mean()\n",
    "#to get the mean of the data"
   ]
  },
  {
   "cell_type": "code",
   "execution_count": 13,
   "metadata": {},
   "outputs": [
    {
     "data": {
      "text/html": [
       "<div>\n",
       "<style scoped>\n",
       "    .dataframe tbody tr th:only-of-type {\n",
       "        vertical-align: middle;\n",
       "    }\n",
       "\n",
       "    .dataframe tbody tr th {\n",
       "        vertical-align: top;\n",
       "    }\n",
       "\n",
       "    .dataframe thead th {\n",
       "        text-align: right;\n",
       "    }\n",
       "</style>\n",
       "<table border=\"1\" class=\"dataframe\">\n",
       "  <thead>\n",
       "    <tr style=\"text-align: right;\">\n",
       "      <th></th>\n",
       "      <th>Country</th>\n",
       "      <th>Total_Cases</th>\n",
       "      <th>New_Cases</th>\n",
       "      <th>Total_Deaths</th>\n",
       "      <th>New_Deaths</th>\n",
       "      <th>Total_Recovered</th>\n",
       "      <th>Active_Cases</th>\n",
       "      <th>Serious/Critical</th>\n",
       "      <th>Tot_Cases</th>\n",
       "      <th>Deaths</th>\n",
       "      <th>Total_Tests</th>\n",
       "      <th>Tests</th>\n",
       "      <th>Continents</th>\n",
       "    </tr>\n",
       "  </thead>\n",
       "  <tbody>\n",
       "    <tr>\n",
       "      <th>0</th>\n",
       "      <td>World</td>\n",
       "      <td>9067824</td>\n",
       "      <td>28,887</td>\n",
       "      <td>471040</td>\n",
       "      <td>1,436</td>\n",
       "      <td>4850718.0</td>\n",
       "      <td>3746066.0</td>\n",
       "      <td>54740.0</td>\n",
       "      <td>1,163</td>\n",
       "      <td>60.4</td>\n",
       "      <td>NaN</td>\n",
       "      <td>NaN</td>\n",
       "      <td>All</td>\n",
       "    </tr>\n",
       "    <tr>\n",
       "      <th>1</th>\n",
       "      <td>USA</td>\n",
       "      <td>2356715</td>\n",
       "      <td>58</td>\n",
       "      <td>122248</td>\n",
       "      <td>1</td>\n",
       "      <td>980367.0</td>\n",
       "      <td>1254100.0</td>\n",
       "      <td>16477.0</td>\n",
       "      <td>7,121</td>\n",
       "      <td>369</td>\n",
       "      <td>28,492,770</td>\n",
       "      <td>86,093</td>\n",
       "      <td>North America</td>\n",
       "    </tr>\n",
       "    <tr>\n",
       "      <th>2</th>\n",
       "      <td>Brazil</td>\n",
       "      <td>1086990</td>\n",
       "      <td>NaN</td>\n",
       "      <td>50659</td>\n",
       "      <td>NaN</td>\n",
       "      <td>579226.0</td>\n",
       "      <td>457105.0</td>\n",
       "      <td>8318.0</td>\n",
       "      <td>5,115</td>\n",
       "      <td>238</td>\n",
       "      <td>2,430,347</td>\n",
       "      <td>11,436</td>\n",
       "      <td>South America</td>\n",
       "    </tr>\n",
       "    <tr>\n",
       "      <th>3</th>\n",
       "      <td>Russia</td>\n",
       "      <td>592280</td>\n",
       "      <td>7,600</td>\n",
       "      <td>8206</td>\n",
       "      <td>95</td>\n",
       "      <td>344416.0</td>\n",
       "      <td>239658.0</td>\n",
       "      <td>2300.0</td>\n",
       "      <td>4,059</td>\n",
       "      <td>56</td>\n",
       "      <td>17,200,000</td>\n",
       "      <td>117,862</td>\n",
       "      <td>Europe</td>\n",
       "    </tr>\n",
       "    <tr>\n",
       "      <th>4</th>\n",
       "      <td>India</td>\n",
       "      <td>426910</td>\n",
       "      <td>NaN</td>\n",
       "      <td>13703</td>\n",
       "      <td>NaN</td>\n",
       "      <td>237252.0</td>\n",
       "      <td>175955.0</td>\n",
       "      <td>8944.0</td>\n",
       "      <td>309</td>\n",
       "      <td>10</td>\n",
       "      <td>6,950,493</td>\n",
       "      <td>5,038</td>\n",
       "      <td>Asia</td>\n",
       "    </tr>\n",
       "    <tr>\n",
       "      <th>...</th>\n",
       "      <td>...</td>\n",
       "      <td>...</td>\n",
       "      <td>...</td>\n",
       "      <td>...</td>\n",
       "      <td>...</td>\n",
       "      <td>...</td>\n",
       "      <td>...</td>\n",
       "      <td>...</td>\n",
       "      <td>...</td>\n",
       "      <td>...</td>\n",
       "      <td>...</td>\n",
       "      <td>...</td>\n",
       "      <td>...</td>\n",
       "    </tr>\n",
       "    <tr>\n",
       "      <th>211</th>\n",
       "      <td>Caribbean Netherlands</td>\n",
       "      <td>7</td>\n",
       "      <td>NaN</td>\n",
       "      <td>NaN</td>\n",
       "      <td>NaN</td>\n",
       "      <td>7.0</td>\n",
       "      <td>0.0</td>\n",
       "      <td>NaN</td>\n",
       "      <td>267</td>\n",
       "      <td>NaN</td>\n",
       "      <td>424</td>\n",
       "      <td>16,173</td>\n",
       "      <td>North America</td>\n",
       "    </tr>\n",
       "    <tr>\n",
       "      <th>212</th>\n",
       "      <td>St. Barth</td>\n",
       "      <td>6</td>\n",
       "      <td>NaN</td>\n",
       "      <td>NaN</td>\n",
       "      <td>NaN</td>\n",
       "      <td>6.0</td>\n",
       "      <td>0.0</td>\n",
       "      <td>NaN</td>\n",
       "      <td>608</td>\n",
       "      <td>NaN</td>\n",
       "      <td>152</td>\n",
       "      <td>15,391</td>\n",
       "      <td>North America</td>\n",
       "    </tr>\n",
       "    <tr>\n",
       "      <th>213</th>\n",
       "      <td>Anguilla</td>\n",
       "      <td>3</td>\n",
       "      <td>NaN</td>\n",
       "      <td>NaN</td>\n",
       "      <td>NaN</td>\n",
       "      <td>3.0</td>\n",
       "      <td>0.0</td>\n",
       "      <td>NaN</td>\n",
       "      <td>200</td>\n",
       "      <td>NaN</td>\n",
       "      <td>93</td>\n",
       "      <td>6,200</td>\n",
       "      <td>North America</td>\n",
       "    </tr>\n",
       "    <tr>\n",
       "      <th>214</th>\n",
       "      <td>Saint Pierre Miquelon</td>\n",
       "      <td>1</td>\n",
       "      <td>NaN</td>\n",
       "      <td>NaN</td>\n",
       "      <td>NaN</td>\n",
       "      <td>1.0</td>\n",
       "      <td>0.0</td>\n",
       "      <td>NaN</td>\n",
       "      <td>173</td>\n",
       "      <td>NaN</td>\n",
       "      <td>NaN</td>\n",
       "      <td>NaN</td>\n",
       "      <td>North America</td>\n",
       "    </tr>\n",
       "    <tr>\n",
       "      <th>215</th>\n",
       "      <td>China</td>\n",
       "      <td>83396</td>\n",
       "      <td>18</td>\n",
       "      <td>4634</td>\n",
       "      <td>NaN</td>\n",
       "      <td>78413.0</td>\n",
       "      <td>349.0</td>\n",
       "      <td>10.0</td>\n",
       "      <td>58</td>\n",
       "      <td>3</td>\n",
       "      <td>NaN</td>\n",
       "      <td>NaN</td>\n",
       "      <td>Asia</td>\n",
       "    </tr>\n",
       "  </tbody>\n",
       "</table>\n",
       "<p>216 rows × 13 columns</p>\n",
       "</div>"
      ],
      "text/plain": [
       "                   Country  Total_Cases New_Cases Total_Deaths New_Deaths  \\\n",
       "0                    World      9067824    28,887       471040      1,436   \n",
       "1                      USA      2356715        58      122248           1   \n",
       "2                   Brazil      1086990       NaN       50659         NaN   \n",
       "3                   Russia       592280     7,600        8206          95   \n",
       "4                    India       426910       NaN       13703         NaN   \n",
       "..                     ...          ...       ...          ...        ...   \n",
       "211  Caribbean Netherlands            7       NaN          NaN        NaN   \n",
       "212              St. Barth            6       NaN          NaN        NaN   \n",
       "213               Anguilla            3       NaN          NaN        NaN   \n",
       "214  Saint Pierre Miquelon            1       NaN          NaN        NaN   \n",
       "215                  China        83396        18        4634         NaN   \n",
       "\n",
       "     Total_Recovered  Active_Cases  Serious/Critical Tot_Cases Deaths  \\\n",
       "0          4850718.0     3746066.0           54740.0     1,163   60.4   \n",
       "1           980367.0     1254100.0           16477.0     7,121    369   \n",
       "2           579226.0      457105.0            8318.0     5,115    238   \n",
       "3           344416.0      239658.0            2300.0     4,059     56   \n",
       "4           237252.0      175955.0            8944.0       309     10   \n",
       "..               ...           ...               ...       ...    ...   \n",
       "211              7.0           0.0               NaN       267    NaN   \n",
       "212              6.0           0.0               NaN       608    NaN   \n",
       "213              3.0           0.0               NaN       200    NaN   \n",
       "214              1.0           0.0               NaN       173    NaN   \n",
       "215          78413.0         349.0              10.0        58      3   \n",
       "\n",
       "    Total_Tests    Tests     Continents  \n",
       "0           NaN      NaN            All  \n",
       "1    28,492,770   86,093  North America  \n",
       "2     2,430,347   11,436  South America  \n",
       "3    17,200,000  117,862         Europe  \n",
       "4     6,950,493    5,038           Asia  \n",
       "..          ...      ...            ...  \n",
       "211         424   16,173  North America  \n",
       "212         152   15,391  North America  \n",
       "213          93    6,200  North America  \n",
       "214         NaN      NaN  North America  \n",
       "215         NaN      NaN           Asia  \n",
       "\n",
       "[216 rows x 13 columns]"
      ]
     },
     "execution_count": 13,
     "metadata": {},
     "output_type": "execute_result"
    }
   ],
   "source": [
    "#A new variable\n",
    "new_data =our_data.replace(r'^\\s*$',np.nan,regex=True) #displace white spaces as nan\n",
    "new_data"
   ]
  },
  {
   "cell_type": "markdown",
   "metadata": {},
   "source": [
    "### Data cleaning"
   ]
  },
  {
   "cell_type": "code",
   "execution_count": 14,
   "metadata": {},
   "outputs": [
    {
     "data": {
      "text/plain": [
       "Country             China\n",
       "Total_Cases         83396\n",
       "New_Cases              18\n",
       "Total_Deaths        4634 \n",
       "New_Deaths            NaN\n",
       "Total_Recovered     78413\n",
       "Active_Cases          349\n",
       "Serious/Critical       10\n",
       "Tot_Cases              58\n",
       "Deaths                  3\n",
       "Total_Tests           NaN\n",
       "Tests                 NaN\n",
       "Continents           Asia\n",
       "Name: 215, dtype: object"
      ]
     },
     "execution_count": 14,
     "metadata": {},
     "output_type": "execute_result"
    }
   ],
   "source": [
    "our_data.iloc[215,:] "
   ]
  },
  {
   "cell_type": "code",
   "execution_count": 15,
   "metadata": {},
   "outputs": [],
   "source": [
    "#will remove row 214 because it has so many irregularities\n",
    "our_data.drop(214, axis=0, inplace = True)"
   ]
  },
  {
   "cell_type": "code",
   "execution_count": 16,
   "metadata": {},
   "outputs": [
    {
     "name": "stdout",
     "output_type": "stream",
     "text": [
      "<class 'pandas.core.frame.DataFrame'>\n",
      "Int64Index: 215 entries, 0 to 215\n",
      "Data columns (total 13 columns):\n",
      " #   Column            Non-Null Count  Dtype  \n",
      "---  ------            --------------  -----  \n",
      " 0   Country           215 non-null    object \n",
      " 1   Total_Cases       215 non-null    int64  \n",
      " 2   New_Cases         47 non-null     object \n",
      " 3   Total_Deaths      215 non-null    object \n",
      " 4   New_Deaths        22 non-null     object \n",
      " 5   Total_Recovered   210 non-null    float64\n",
      " 6   Active_Cases      211 non-null    float64\n",
      " 7   Serious/Critical  132 non-null    float64\n",
      " 8   Tot_Cases         213 non-null    object \n",
      " 9   Deaths            184 non-null    object \n",
      " 10  Total_Tests       191 non-null    object \n",
      " 11  Tests             191 non-null    object \n",
      " 12  Continents        213 non-null    object \n",
      "dtypes: float64(3), int64(1), object(9)\n",
      "memory usage: 16.0+ KB\n"
     ]
    }
   ],
   "source": [
    "#get information from the data frame\n",
    "our_data.info() "
   ]
  },
  {
   "cell_type": "code",
   "execution_count": 17,
   "metadata": {},
   "outputs": [],
   "source": [
    "#will drop the new deaths column it has the least info with highest missing values\n",
    "our_data.drop(\"New_Deaths\", axis=1, inplace = True)"
   ]
  },
  {
   "cell_type": "code",
   "execution_count": 18,
   "metadata": {},
   "outputs": [
    {
     "name": "stdout",
     "output_type": "stream",
     "text": [
      "<class 'pandas.core.frame.DataFrame'>\n",
      "Int64Index: 215 entries, 0 to 215\n",
      "Data columns (total 12 columns):\n",
      " #   Column            Non-Null Count  Dtype  \n",
      "---  ------            --------------  -----  \n",
      " 0   Country           215 non-null    object \n",
      " 1   Total_Cases       215 non-null    int64  \n",
      " 2   New_Cases         47 non-null     object \n",
      " 3   Total_Deaths      215 non-null    object \n",
      " 4   Total_Recovered   210 non-null    float64\n",
      " 5   Active_Cases      211 non-null    float64\n",
      " 6   Serious/Critical  132 non-null    float64\n",
      " 7   Tot_Cases         213 non-null    object \n",
      " 8   Deaths            184 non-null    object \n",
      " 9   Total_Tests       191 non-null    object \n",
      " 10  Tests             191 non-null    object \n",
      " 11  Continents        213 non-null    object \n",
      "dtypes: float64(3), int64(1), object(8)\n",
      "memory usage: 15.1+ KB\n"
     ]
    }
   ],
   "source": [
    "our_data.info() #check the info"
   ]
  },
  {
   "cell_type": "code",
   "execution_count": 19,
   "metadata": {},
   "outputs": [],
   "source": [
    "#Will drop the New_Cases column as well since it has too many irregularities\n",
    "our_data.drop(\"New_Cases\", axis = 1, inplace = True)\n"
   ]
  },
  {
   "cell_type": "code",
   "execution_count": 20,
   "metadata": {},
   "outputs": [
    {
     "name": "stdout",
     "output_type": "stream",
     "text": [
      "<class 'pandas.core.frame.DataFrame'>\n",
      "Int64Index: 215 entries, 0 to 215\n",
      "Data columns (total 11 columns):\n",
      " #   Column            Non-Null Count  Dtype  \n",
      "---  ------            --------------  -----  \n",
      " 0   Country           215 non-null    object \n",
      " 1   Total_Cases       215 non-null    int64  \n",
      " 2   Total_Deaths      215 non-null    object \n",
      " 3   Total_Recovered   210 non-null    float64\n",
      " 4   Active_Cases      211 non-null    float64\n",
      " 5   Serious/Critical  132 non-null    float64\n",
      " 6   Tot_Cases         213 non-null    object \n",
      " 7   Deaths            184 non-null    object \n",
      " 8   Total_Tests       191 non-null    object \n",
      " 9   Tests             191 non-null    object \n",
      " 10  Continents        213 non-null    object \n",
      "dtypes: float64(3), int64(1), object(7)\n",
      "memory usage: 14.3+ KB\n"
     ]
    }
   ],
   "source": [
    "our_data.info()"
   ]
  },
  {
   "cell_type": "code",
   "execution_count": 21,
   "metadata": {},
   "outputs": [],
   "source": [
    "#replacing NAN in the DataFrame with 0\n",
    "our_data.fillna(0, inplace = True)"
   ]
  },
  {
   "cell_type": "code",
   "execution_count": 22,
   "metadata": {},
   "outputs": [
    {
     "data": {
      "text/plain": [
       "Country             0\n",
       "Total_Cases         0\n",
       "Total_Deaths        0\n",
       "Total_Recovered     0\n",
       "Active_Cases        0\n",
       "Serious/Critical    0\n",
       "Tot_Cases           0\n",
       "Deaths              0\n",
       "Total_Tests         0\n",
       "Tests               0\n",
       "Continents          0\n",
       "dtype: int64"
      ]
     },
     "execution_count": 22,
     "metadata": {},
     "output_type": "execute_result"
    }
   ],
   "source": [
    "our_data.isnull().sum()\n",
    "#there are no missing values any more"
   ]
  },
  {
   "cell_type": "code",
   "execution_count": 23,
   "metadata": {},
   "outputs": [
    {
     "data": {
      "text/html": [
       "<div>\n",
       "<style scoped>\n",
       "    .dataframe tbody tr th:only-of-type {\n",
       "        vertical-align: middle;\n",
       "    }\n",
       "\n",
       "    .dataframe tbody tr th {\n",
       "        vertical-align: top;\n",
       "    }\n",
       "\n",
       "    .dataframe thead th {\n",
       "        text-align: right;\n",
       "    }\n",
       "</style>\n",
       "<table border=\"1\" class=\"dataframe\">\n",
       "  <thead>\n",
       "    <tr style=\"text-align: right;\">\n",
       "      <th></th>\n",
       "      <th>Country</th>\n",
       "      <th>Total_Cases</th>\n",
       "      <th>Total_Deaths</th>\n",
       "      <th>Total_Recovered</th>\n",
       "      <th>Active_Cases</th>\n",
       "      <th>Serious/Critical</th>\n",
       "      <th>Tot_Cases</th>\n",
       "      <th>Deaths</th>\n",
       "      <th>Total_Tests</th>\n",
       "      <th>Tests</th>\n",
       "      <th>Continents</th>\n",
       "    </tr>\n",
       "  </thead>\n",
       "  <tbody>\n",
       "    <tr>\n",
       "      <th>0</th>\n",
       "      <td>World</td>\n",
       "      <td>9067824</td>\n",
       "      <td>471040</td>\n",
       "      <td>4850718.0</td>\n",
       "      <td>3746066.0</td>\n",
       "      <td>54740.0</td>\n",
       "      <td>1,163</td>\n",
       "      <td>60.4</td>\n",
       "      <td>0</td>\n",
       "      <td>0</td>\n",
       "      <td>All</td>\n",
       "    </tr>\n",
       "    <tr>\n",
       "      <th>1</th>\n",
       "      <td>USA</td>\n",
       "      <td>2356715</td>\n",
       "      <td>122248</td>\n",
       "      <td>980367.0</td>\n",
       "      <td>1254100.0</td>\n",
       "      <td>16477.0</td>\n",
       "      <td>7,121</td>\n",
       "      <td>369</td>\n",
       "      <td>28,492,770</td>\n",
       "      <td>86,093</td>\n",
       "      <td>North America</td>\n",
       "    </tr>\n",
       "    <tr>\n",
       "      <th>2</th>\n",
       "      <td>Brazil</td>\n",
       "      <td>1086990</td>\n",
       "      <td>50659</td>\n",
       "      <td>579226.0</td>\n",
       "      <td>457105.0</td>\n",
       "      <td>8318.0</td>\n",
       "      <td>5,115</td>\n",
       "      <td>238</td>\n",
       "      <td>2,430,347</td>\n",
       "      <td>11,436</td>\n",
       "      <td>South America</td>\n",
       "    </tr>\n",
       "    <tr>\n",
       "      <th>3</th>\n",
       "      <td>Russia</td>\n",
       "      <td>592280</td>\n",
       "      <td>8206</td>\n",
       "      <td>344416.0</td>\n",
       "      <td>239658.0</td>\n",
       "      <td>2300.0</td>\n",
       "      <td>4,059</td>\n",
       "      <td>56</td>\n",
       "      <td>17,200,000</td>\n",
       "      <td>117,862</td>\n",
       "      <td>Europe</td>\n",
       "    </tr>\n",
       "    <tr>\n",
       "      <th>4</th>\n",
       "      <td>India</td>\n",
       "      <td>426910</td>\n",
       "      <td>13703</td>\n",
       "      <td>237252.0</td>\n",
       "      <td>175955.0</td>\n",
       "      <td>8944.0</td>\n",
       "      <td>309</td>\n",
       "      <td>10</td>\n",
       "      <td>6,950,493</td>\n",
       "      <td>5,038</td>\n",
       "      <td>Asia</td>\n",
       "    </tr>\n",
       "  </tbody>\n",
       "</table>\n",
       "</div>"
      ],
      "text/plain": [
       "  Country  Total_Cases Total_Deaths  Total_Recovered  Active_Cases  \\\n",
       "0   World      9067824       471040        4850718.0     3746066.0   \n",
       "1     USA      2356715      122248          980367.0     1254100.0   \n",
       "2  Brazil      1086990       50659          579226.0      457105.0   \n",
       "3  Russia       592280        8206          344416.0      239658.0   \n",
       "4   India       426910       13703          237252.0      175955.0   \n",
       "\n",
       "   Serious/Critical Tot_Cases Deaths Total_Tests    Tests     Continents  \n",
       "0           54740.0     1,163   60.4           0        0            All  \n",
       "1           16477.0     7,121    369  28,492,770   86,093  North America  \n",
       "2            8318.0     5,115    238   2,430,347   11,436  South America  \n",
       "3            2300.0     4,059     56  17,200,000  117,862         Europe  \n",
       "4            8944.0       309     10   6,950,493    5,038           Asia  "
      ]
     },
     "execution_count": 23,
     "metadata": {},
     "output_type": "execute_result"
    }
   ],
   "source": [
    "our_data.head()"
   ]
  },
  {
   "cell_type": "markdown",
   "metadata": {},
   "source": [
    "### Data Visualization"
   ]
  },
  {
   "cell_type": "code",
   "execution_count": 24,
   "metadata": {},
   "outputs": [],
   "source": [
    "#convert the objects data to numeric to be able to plot graphs\n",
    "new_data['Total_Deaths']=new_data['Total_Deaths'].astype(str).str.replace(',','').astype(float)\n",
    "new_data['Tot_Cases']=our_data['Total_Cases'].astype(str).str.replace(',','').astype(float)\n",
    "new_data['Deaths']=our_data['Deaths'].astype(str).str.replace(',','').astype(float)\n",
    "new_data['Total_Tests']=our_data['Total_Tests'].astype(str).str.replace(',','').astype(float)\n",
    "new_data['Tests']=our_data['Tests'].astype(str).str.replace(',','').astype(float)"
   ]
  },
  {
   "cell_type": "code",
   "execution_count": 25,
   "metadata": {},
   "outputs": [
    {
     "name": "stdout",
     "output_type": "stream",
     "text": [
      "<class 'pandas.core.frame.DataFrame'>\n",
      "RangeIndex: 216 entries, 0 to 215\n",
      "Data columns (total 13 columns):\n",
      " #   Column            Non-Null Count  Dtype  \n",
      "---  ------            --------------  -----  \n",
      " 0   Country           216 non-null    object \n",
      " 1   Total_Cases       216 non-null    int64  \n",
      " 2   New_Cases         47 non-null     object \n",
      " 3   Total_Deaths      186 non-null    float64\n",
      " 4   New_Deaths        22 non-null     object \n",
      " 5   Total_Recovered   211 non-null    float64\n",
      " 6   Active_Cases      212 non-null    float64\n",
      " 7   Serious/Critical  132 non-null    float64\n",
      " 8   Tot_Cases         215 non-null    float64\n",
      " 9   Deaths            215 non-null    float64\n",
      " 10  Total_Tests       215 non-null    float64\n",
      " 11  Tests             215 non-null    float64\n",
      " 12  Continents        214 non-null    object \n",
      "dtypes: float64(8), int64(1), object(4)\n",
      "memory usage: 18.6+ KB\n"
     ]
    }
   ],
   "source": [
    "new_data.info()"
   ]
  },
  {
   "cell_type": "markdown",
   "metadata": {},
   "source": [
    "#### Total Cases"
   ]
  },
  {
   "cell_type": "code",
   "execution_count": 26,
   "metadata": {},
   "outputs": [
    {
     "data": {
      "text/plain": [
       "0"
      ]
     },
     "execution_count": 26,
     "metadata": {},
     "output_type": "execute_result"
    }
   ],
   "source": [
    "our_data['Total_Cases'].isnull().sum()\n",
    "#we got 0, so there aren't mising values"
   ]
  },
  {
   "cell_type": "code",
   "execution_count": 27,
   "metadata": {},
   "outputs": [
    {
     "data": {
      "text/plain": [
       "<matplotlib.axes._subplots.AxesSubplot at 0x1cda4898>"
      ]
     },
     "execution_count": 27,
     "metadata": {},
     "output_type": "execute_result"
    },
    {
     "data": {
      "image/png": "[encoded data removed]",
      "text/plain": [
       "<Figure size 432x288 with 1 Axes>"
      ]
     },
     "metadata": {
      "needs_background": "light"
     },
     "output_type": "display_data"
    }
   ],
   "source": [
    "\n",
    "sns.barplot(x = 'Total_Cases', y ='Continents' ,data = our_data)"
   ]
  },
  {
   "cell_type": "markdown",
   "metadata": {},
   "source": [
    "#### Total Deaths"
   ]
  },
  {
   "cell_type": "code",
   "execution_count": 28,
   "metadata": {},
   "outputs": [
    {
     "data": {
      "text/plain": [
       "0"
      ]
     },
     "execution_count": 28,
     "metadata": {},
     "output_type": "execute_result"
    }
   ],
   "source": [
    "(our_data['Total_Deaths'].isnull()).sum()"
   ]
  },
  {
   "cell_type": "code",
   "execution_count": 29,
   "metadata": {},
   "outputs": [
    {
     "data": {
      "text/plain": [
       "pandas.core.series.Series"
      ]
     },
     "execution_count": 29,
     "metadata": {},
     "output_type": "execute_result"
    }
   ],
   "source": [
    "type(our_data['Total_Deaths'])"
   ]
  },
  {
   "cell_type": "code",
   "execution_count": 30,
   "metadata": {},
   "outputs": [
    {
     "data": {
      "text/plain": [
       "<matplotlib.axes._subplots.AxesSubplot at 0x1de690e8>"
      ]
     },
     "execution_count": 30,
     "metadata": {},
     "output_type": "execute_result"
    },
    {
     "data": {
      "image/png": "[encoded data removed]",
      "text/plain": [
       "<Figure size 432x288 with 1 Axes>"
      ]
     },
     "metadata": {
      "needs_background": "light"
     },
     "output_type": "display_data"
    }
   ],
   "source": [
    "sns.barplot(x = 'Total_Deaths', y ='Continents' ,data = new_data) #using the new data for our latest conversions"
   ]
  },
  {
   "cell_type": "markdown",
   "metadata": {},
   "source": [
    "#### Handling the Total Recovered"
   ]
  },
  {
   "cell_type": "code",
   "execution_count": 31,
   "metadata": {},
   "outputs": [
    {
     "data": {
      "text/plain": [
       "0"
      ]
     },
     "execution_count": 31,
     "metadata": {},
     "output_type": "execute_result"
    }
   ],
   "source": [
    "#checking for missing data\n",
    "(our_data['Total_Recovered'].isnull()).sum()\n",
    "#There are no missing data"
   ]
  },
  {
   "cell_type": "code",
   "execution_count": 32,
   "metadata": {},
   "outputs": [
    {
     "data": {
      "text/plain": [
       "<matplotlib.axes._subplots.AxesSubplot at 0x1deba070>"
      ]
     },
     "execution_count": 32,
     "metadata": {},
     "output_type": "execute_result"
    },
    {
     "data": {
      "image/png": "[encoded data removed]",
      "text/plain": [
       "<Figure size 432x288 with 1 Axes>"
      ]
     },
     "metadata": {
      "needs_background": "light"
     },
     "output_type": "display_data"
    }
   ],
   "source": [
    "sns.barplot(x = 'Total_Recovered', y ='Continents' ,data = new_data)\n",
    "#so many outliers as well"
   ]
  },
  {
   "cell_type": "markdown",
   "metadata": {},
   "source": [
    "#### Active cases"
   ]
  },
  {
   "cell_type": "code",
   "execution_count": 33,
   "metadata": {},
   "outputs": [
    {
     "data": {
      "text/plain": [
       "0"
      ]
     },
     "execution_count": 33,
     "metadata": {},
     "output_type": "execute_result"
    }
   ],
   "source": [
    "(our_data['Active_Cases'].isnull()).sum()\n",
    "#no missing values"
   ]
  },
  {
   "cell_type": "code",
   "execution_count": 34,
   "metadata": {},
   "outputs": [
    {
     "data": {
      "text/plain": [
       "<matplotlib.axes._subplots.AxesSubplot at 0x1defde38>"
      ]
     },
     "execution_count": 34,
     "metadata": {},
     "output_type": "execute_result"
    },
    {
     "data": {
      "image/png": "[encoded data removed]",
      "text/plain": [
       "<Figure size 432x288 with 1 Axes>"
      ]
     },
     "metadata": {
      "needs_background": "light"
     },
     "output_type": "display_data"
    }
   ],
   "source": [
    "sns.barplot(x = 'Active_Cases', y ='Continents',data = new_data)"
   ]
  },
  {
   "cell_type": "markdown",
   "metadata": {},
   "source": [
    "#### Serious/Critical"
   ]
  },
  {
   "cell_type": "code",
   "execution_count": 35,
   "metadata": {},
   "outputs": [
    {
     "data": {
      "text/plain": [
       "0"
      ]
     },
     "execution_count": 35,
     "metadata": {},
     "output_type": "execute_result"
    }
   ],
   "source": [
    "(our_data['Serious/Critical'].isnull()).sum()"
   ]
  },
  {
   "cell_type": "code",
   "execution_count": 36,
   "metadata": {},
   "outputs": [
    {
     "data": {
      "text/plain": [
       "<matplotlib.axes._subplots.AxesSubplot at 0x1df02e98>"
      ]
     },
     "execution_count": 36,
     "metadata": {},
     "output_type": "execute_result"
    },
    {
     "data": {
      "image/png": "[encoded data removed]",
      "text/plain": [
       "<Figure size 432x288 with 1 Axes>"
      ]
     },
     "metadata": {
      "needs_background": "light"
     },
     "output_type": "display_data"
    }
   ],
   "source": [
    " sns.barplot(x = 'Serious/Critical', y ='Continents',data = new_data)"
   ]
  },
  {
   "cell_type": "markdown",
   "metadata": {},
   "source": [
    "#### Tot Cases"
   ]
  },
  {
   "cell_type": "code",
   "execution_count": 37,
   "metadata": {},
   "outputs": [
    {
     "data": {
      "text/plain": [
       "0"
      ]
     },
     "execution_count": 37,
     "metadata": {},
     "output_type": "execute_result"
    }
   ],
   "source": [
    "(our_data['Tot_Cases'].isnull()).sum()"
   ]
  },
  {
   "cell_type": "code",
   "execution_count": 38,
   "metadata": {},
   "outputs": [
    {
     "data": {
      "text/plain": [
       "<matplotlib.axes._subplots.AxesSubplot at 0x1df7d238>"
      ]
     },
     "execution_count": 38,
     "metadata": {},
     "output_type": "execute_result"
    },
    {
     "data": {
      "image/png": "[encoded data removed]",
      "text/plain": [
       "<Figure size 432x288 with 1 Axes>"
      ]
     },
     "metadata": {
      "needs_background": "light"
     },
     "output_type": "display_data"
    }
   ],
   "source": [
    "sns.barplot(x = 'Tot_Cases', y ='Continents',data = new_data)"
   ]
  },
  {
   "cell_type": "markdown",
   "metadata": {},
   "source": [
    "#### Deaths"
   ]
  },
  {
   "cell_type": "code",
   "execution_count": 39,
   "metadata": {},
   "outputs": [
    {
     "data": {
      "text/plain": [
       "0"
      ]
     },
     "execution_count": 39,
     "metadata": {},
     "output_type": "execute_result"
    }
   ],
   "source": [
    "(our_data['Deaths'].isnull()).sum()"
   ]
  },
  {
   "cell_type": "code",
   "execution_count": 40,
   "metadata": {},
   "outputs": [
    {
     "data": {
      "text/plain": [
       "<matplotlib.axes._subplots.AxesSubplot at 0x1df7d628>"
      ]
     },
     "execution_count": 40,
     "metadata": {},
     "output_type": "execute_result"
    },
    {
     "data": {
      "image/png": "[encoded data removed]",
      "text/plain": [
       "<Figure size 432x288 with 1 Axes>"
      ]
     },
     "metadata": {
      "needs_background": "light"
     },
     "output_type": "display_data"
    }
   ],
   "source": [
    "sns.barplot(x = 'Deaths', y ='Continents',data = new_data)"
   ]
  },
  {
   "cell_type": "markdown",
   "metadata": {},
   "source": [
    "#### Total Tests"
   ]
  },
  {
   "cell_type": "code",
   "execution_count": 41,
   "metadata": {},
   "outputs": [
    {
     "data": {
      "text/plain": [
       "0"
      ]
     },
     "execution_count": 41,
     "metadata": {},
     "output_type": "execute_result"
    }
   ],
   "source": [
    "(our_data['Total_Tests'].isnull().sum())"
   ]
  },
  {
   "cell_type": "code",
   "execution_count": 42,
   "metadata": {},
   "outputs": [
    {
     "data": {
      "text/plain": [
       "<matplotlib.axes._subplots.AxesSubplot at 0x1de733b8>"
      ]
     },
     "execution_count": 42,
     "metadata": {},
     "output_type": "execute_result"
    },
    {
     "data": {
      "image/png": "[encoded data removed]",
      "text/plain": [
       "<Figure size 432x288 with 1 Axes>"
      ]
     },
     "metadata": {
      "needs_background": "light"
     },
     "output_type": "display_data"
    }
   ],
   "source": [
    "sns.barplot(x = 'Total_Tests', y ='Continents',data = new_data)"
   ]
  },
  {
   "cell_type": "markdown",
   "metadata": {},
   "source": [
    "#### Tests "
   ]
  },
  {
   "cell_type": "code",
   "execution_count": 43,
   "metadata": {},
   "outputs": [
    {
     "data": {
      "text/plain": [
       "0"
      ]
     },
     "execution_count": 43,
     "metadata": {},
     "output_type": "execute_result"
    }
   ],
   "source": [
    "(our_data['Tests'].isnull()).sum()"
   ]
  },
  {
   "cell_type": "code",
   "execution_count": 44,
   "metadata": {},
   "outputs": [
    {
     "data": {
      "text/plain": [
       "<matplotlib.axes._subplots.AxesSubplot at 0x1de299a0>"
      ]
     },
     "execution_count": 44,
     "metadata": {},
     "output_type": "execute_result"
    },
    {
     "data": {
      "image/png": "[encoded data removed]",
      "text/plain": [
       "<Figure size 432x288 with 1 Axes>"
      ]
     },
     "metadata": {
      "needs_background": "light"
     },
     "output_type": "display_data"
    }
   ],
   "source": [
    "sns.barplot(x = 'Tests', y ='Continents',data = new_data)"
   ]
  },
  {
   "cell_type": "markdown",
   "metadata": {},
   "source": [
    "### Drawing Insights from the data"
   ]
  },
  {
   "cell_type": "markdown",
   "metadata": {},
   "source": [
    "#### Country with the total number of cases"
   ]
  },
  {
   "cell_type": "code",
   "execution_count": 45,
   "metadata": {},
   "outputs": [],
   "source": [
    "#TC_data is a variable that stands for Total_Cases data\n",
    "TC_data = our_data.sort_values('Total_Cases', ascending = False).reset_index()"
   ]
  },
  {
   "cell_type": "code",
   "execution_count": 46,
   "metadata": {},
   "outputs": [
    {
     "data": {
      "text/plain": [
       "<matplotlib.axes._subplots.AxesSubplot at 0x1e07a2b0>"
      ]
     },
     "execution_count": 46,
     "metadata": {},
     "output_type": "execute_result"
    },
    {
     "data": {
      "image/png": "[encoded data removed]",
      "text/plain": [
       "<Figure size 720x360 with 1 Axes>"
      ]
     },
     "metadata": {
      "needs_background": "light"
     },
     "output_type": "display_data"
    }
   ],
   "source": [
    "plt.figure(figsize = (10,5))\n",
    "sns.barplot(x = TC_data['Total_Cases'].sort_values(ascending = False).head(10), y = TC_data['Country'].head(10))"
   ]
  },
  {
   "cell_type": "markdown",
   "metadata": {},
   "source": [
    "#### Total Recovered Cases"
   ]
  },
  {
   "cell_type": "code",
   "execution_count": 49,
   "metadata": {},
   "outputs": [],
   "source": [
    "#TR means Total Recovered\n",
    "TR_data = our_data.sort_values('Total_Recovered', ascending = False).reset_index()"
   ]
  },
  {
   "cell_type": "code",
   "execution_count": 50,
   "metadata": {},
   "outputs": [
    {
     "data": {
      "text/plain": [
       "<matplotlib.axes._subplots.AxesSubplot at 0x1e0cdb80>"
      ]
     },
     "execution_count": 50,
     "metadata": {},
     "output_type": "execute_result"
    },
    {
     "data": {
      "image/png": "[encoded data removed]",
      "text/plain": [
       "<Figure size 720x360 with 1 Axes>"
      ]
     },
     "metadata": {
      "needs_background": "light"
     },
     "output_type": "display_data"
    }
   ],
   "source": [
    "plt.figure(figsize = (10,5))\n",
    "sns.barplot(x = TR_data['Total_Recovered'].sort_values(ascending = False).head(10), y = TR_data['Country'].head(10))"
   ]
  },
  {
   "cell_type": "markdown",
   "metadata": {},
   "source": [
    "#### Active Cases "
   ]
  },
  {
   "cell_type": "code",
   "execution_count": 51,
   "metadata": {},
   "outputs": [],
   "source": [
    "#AC_data means active cases data variable\n",
    "AC_data = our_data.sort_values('Active_Cases', ascending = False).reset_index()"
   ]
  },
  {
   "cell_type": "code",
   "execution_count": 52,
   "metadata": {},
   "outputs": [
    {
     "data": {
      "text/plain": [
       "<matplotlib.axes._subplots.AxesSubplot at 0x1e170910>"
      ]
     },
     "execution_count": 52,
     "metadata": {},
     "output_type": "execute_result"
    },
    {
     "data": {
      "image/png": "[encoded data removed]",
      "text/plain": [
       "<Figure size 720x360 with 1 Axes>"
      ]
     },
     "metadata": {
      "needs_background": "light"
     },
     "output_type": "display_data"
    }
   ],
   "source": [
    "plt.figure(figsize = (10,5))\n",
    "sns.barplot(x = AC_data['Active_Cases'].sort_values(ascending = False).head(10), y = AC_data['Country'].head(10))"
   ]
  },
  {
   "cell_type": "markdown",
   "metadata": {},
   "source": [
    "#### Serious/Critical"
   ]
  },
  {
   "cell_type": "code",
   "execution_count": 53,
   "metadata": {},
   "outputs": [],
   "source": [
    "SC_data = our_data.sort_values('Serious/Critical', ascending = False).reset_index()"
   ]
  },
  {
   "cell_type": "code",
   "execution_count": 54,
   "metadata": {},
   "outputs": [
    {
     "data": {
      "text/plain": [
       "<matplotlib.axes._subplots.AxesSubplot at 0x1e1cf478>"
      ]
     },
     "execution_count": 54,
     "metadata": {},
     "output_type": "execute_result"
    },
    {
     "data": {
      "image/png": "[encoded data removed]",
      "text/plain": [
       "<Figure size 720x360 with 1 Axes>"
      ]
     },
     "metadata": {
      "needs_background": "light"
     },
     "output_type": "display_data"
    }
   ],
   "source": [
    "plt.figure(figsize = (10,5))\n",
    "sns.barplot(x = SC_data['Serious/Critical'].sort_values(ascending = False).head(10), y = SC_data['Country'].head(10))"
   ]
  },
  {
   "cell_type": "markdown",
   "metadata": {},
   "source": [
    "#### Deaths Recorded"
   ]
  },
  {
   "cell_type": "code",
   "execution_count": 59,
   "metadata": {},
   "outputs": [],
   "source": [
    "#D_data means Deaths Recorded data\n",
    "#take note we are using new_data to sort here cause we get a string error using our_data variable\n",
    "D_data = new_data.sort_values('Deaths', ascending = False).reset_index()"
   ]
  },
  {
   "cell_type": "code",
   "execution_count": 60,
   "metadata": {},
   "outputs": [
    {
     "data": {
      "text/plain": [
       "<matplotlib.axes._subplots.AxesSubplot at 0x1de69430>"
      ]
     },
     "execution_count": 60,
     "metadata": {},
     "output_type": "execute_result"
    },
    {
     "data": {
      "image/png": "[encoded data removed]",
      "text/plain": [
       "<Figure size 720x360 with 1 Axes>"
      ]
     },
     "metadata": {
      "needs_background": "light"
     },
     "output_type": "display_data"
    }
   ],
   "source": [
    "plt.figure(figsize = (10,5))\n",
    "sns.barplot(x = D_data['Deaths'].sort_values(ascending = False).head(10), y = D_data['Country'].head(10))"
   ]
  },
  {
   "cell_type": "markdown",
   "metadata": {},
   "source": [
    "### Summary of our observations from all indication using a countplot "
   ]
  },
  {
   "cell_type": "code",
   "execution_count": 68,
   "metadata": {},
   "outputs": [
    {
     "data": {
      "text/plain": [
       "<matplotlib.axes._subplots.AxesSubplot at 0x1536a60>"
      ]
     },
     "execution_count": 68,
     "metadata": {},
     "output_type": "execute_result"
    },
    {
     "data": {
      "image/png": "[encoded data removed]",
      "text/plain": [
       "<Figure size 864x288 with 1 Axes>"
      ]
     },
     "metadata": {
      "needs_background": "light"
     },
     "output_type": "display_data"
    }
   ],
   "source": [
    "plt.figure(figsize = (12,4))\n",
    "sns.countplot(our_data['Continents'])"
   ]
  },
  {
   "cell_type": "code",
   "execution_count": null,
   "metadata": {},
   "outputs": [],
   "source": []
  }
 ],
 "metadata": {
  "kernelspec": {
   "display_name": "Python 3",
   "language": "python",
   "name": "python3"
  },
  "language_info": {
   "codemirror_mode": {
    "name": "ipython",
    "version": 3
   },
   "file_extension": ".py",
   "mimetype": "text/x-python",
   "name": "python",
   "nbconvert_exporter": "python",
   "pygments_lexer": "ipython3",
   "version": "3.8.3"
  }
 },
 "nbformat": 4,
 "nbformat_minor": 4
}
